{
 "cells": [
  {
   "cell_type": "code",
   "execution_count": 3,
   "id": "a6376ac9",
   "metadata": {
    "scrolled": false
   },
   "outputs": [
    {
     "name": "stdout",
     "output_type": "stream",
     "text": [
      "Requirement already satisfied: flask-mysqldb in c:\\users\\gjaischool1\\anaconda3\\lib\\site-packages (1.0.1)\n",
      "Requirement already satisfied: Flask>=0.12.4 in c:\\users\\gjaischool1\\anaconda3\\lib\\site-packages (from flask-mysqldb) (2.2.2)\n",
      "Requirement already satisfied: mysqlclient>=1.3.7 in c:\\users\\gjaischool1\\anaconda3\\lib\\site-packages (from flask-mysqldb) (2.2.0)\n",
      "Requirement already satisfied: itsdangerous>=2.0 in c:\\users\\gjaischool1\\anaconda3\\lib\\site-packages (from Flask>=0.12.4->flask-mysqldb) (2.0.1)\n",
      "Requirement already satisfied: Jinja2>=3.0 in c:\\users\\gjaischool1\\anaconda3\\lib\\site-packages (from Flask>=0.12.4->flask-mysqldb) (3.1.2)\n",
      "Requirement already satisfied: click>=8.0 in c:\\users\\gjaischool1\\anaconda3\\lib\\site-packages (from Flask>=0.12.4->flask-mysqldb) (8.0.4)\n",
      "Requirement already satisfied: Werkzeug>=2.2.2 in c:\\users\\gjaischool1\\anaconda3\\lib\\site-packages (from Flask>=0.12.4->flask-mysqldb) (2.2.2)\n",
      "Requirement already satisfied: colorama in c:\\users\\gjaischool1\\anaconda3\\lib\\site-packages (from click>=8.0->Flask>=0.12.4->flask-mysqldb) (0.4.6)\n",
      "Requirement already satisfied: MarkupSafe>=2.0 in c:\\users\\gjaischool1\\anaconda3\\lib\\site-packages (from Jinja2>=3.0->Flask>=0.12.4->flask-mysqldb) (2.1.1)\n"
     ]
    }
   ],
   "source": [
    "!pip install flask-mysqldb"
   ]
  },
  {
   "cell_type": "code",
   "execution_count": null,
   "id": "1c90c447",
   "metadata": {
    "scrolled": true
   },
   "outputs": [
    {
     "name": "stdout",
     "output_type": "stream",
     "text": [
      " * Serving Flask app '__main__'\n",
      " * Debug mode: off\n"
     ]
    },
    {
     "name": "stderr",
     "output_type": "stream",
     "text": [
      "WARNING: This is a development server. Do not use it in a production deployment. Use a production WSGI server instead.\n",
      " * Running on all addresses (0.0.0.0)\n",
      " * Running on http://127.0.0.1:3308\n",
      " * Running on http://172.20.10.7:3308\n",
      "Press CTRL+C to quit\n"
     ]
    }
   ],
   "source": [
    "from flask import Flask, request, jsonify\n",
    "from flask_mysqldb import MySQL\n",
    "\n",
    "app = Flask(__name__)\n",
    "\n",
    "# MySQL configuration\n",
    "app.config['MYSQL_HOST'] = 'project-db-stu3.smhrd.com'\n",
    "app.config['MYSQL_PORT'] = 3308\n",
    "app.config['MYSQL_USER'] = 'Insa4_IOTB_hacksim_1'\n",
    "app.config['MYSQL_PASSWORD'] = \"aishcool1\"\n",
    "app.config['MYSQL_DB'] = \"Insa4_IOTB_hacksim_1\"\n",
    "\n",
    "\n",
    "mysql = MySQL(app)\n",
    "\n",
    "@app.route('/rfid-data', methods=['POST'])\n",
    "def save_rfid_data():\n",
    "    uid = request.form.get('uid')\n",
    "\n",
    "    # Save RFID UID to the database\n",
    "    cur = mysql.connection.cursor()\n",
    "    cur.execute(\"INSERT INTO rfid_data (uid) VALUES (%s)\", [uid])\n",
    "    mysql.connection.commit()\n",
    "\n",
    "    return \"Data saved successfully\"\n",
    "\n",
    "if __name__ == '__main__':\n",
    "    app.run(host=\"0.0.0.0\", port=3308)"
   ]
  },
  {
   "cell_type": "code",
   "execution_count": 5,
   "id": "b5a9cf08",
   "metadata": {},
   "outputs": [
    {
     "name": "stderr",
     "output_type": "stream",
     "text": [
      "ERROR: Could not find a version that satisfies the requirement flaskext (from versions: none)\n",
      "ERROR: No matching distribution found for flaskext\n"
     ]
    }
   ],
   "source": [
    "!pip install flaskext"
   ]
  },
  {
   "cell_type": "code",
   "execution_count": 1,
   "id": "05c67934",
   "metadata": {},
   "outputs": [
    {
     "ename": "ModuleNotFoundError",
     "evalue": "No module named 'flaskext'",
     "output_type": "error",
     "traceback": [
      "\u001b[1;31m---------------------------------------------------------------------------\u001b[0m",
      "\u001b[1;31mModuleNotFoundError\u001b[0m                       Traceback (most recent call last)",
      "Cell \u001b[1;32mIn[1], line 2\u001b[0m\n\u001b[0;32m      1\u001b[0m \u001b[38;5;28;01mfrom\u001b[39;00m \u001b[38;5;21;01mflask\u001b[39;00m \u001b[38;5;28;01mimport\u001b[39;00m Flask, session, render_template, redirect, request, url_for\n\u001b[1;32m----> 2\u001b[0m \u001b[38;5;28;01mfrom\u001b[39;00m \u001b[38;5;21;01mflaskext\u001b[39;00m\u001b[38;5;21;01m.\u001b[39;00m\u001b[38;5;21;01mmysql\u001b[39;00m \u001b[38;5;28;01mimport\u001b[39;00m MySQL\n\u001b[0;32m      4\u001b[0m mysql \u001b[38;5;241m=\u001b[39m MySQL()\n\u001b[0;32m      5\u001b[0m app \u001b[38;5;241m=\u001b[39m Flask(\u001b[38;5;18m__name__\u001b[39m)\n",
      "\u001b[1;31mModuleNotFoundError\u001b[0m: No module named 'flaskext'"
     ]
    }
   ],
   "source": [
    "from flask import Flask, session, render_template, redirect, request, url_for\n",
    "from flaskext.mysql import MySQL\n",
    " \n",
    "mysql = MySQL()\n",
    "app = Flask(__name__)\n",
    " \n",
    "app.config['MYSQL_DATABASE_USER'] = 'root'\n",
    "app.config['MYSQL_DATABASE_PASSWORD'] = '12345'\n",
    "app.config['MYSQL_DATABASE_DB'] = 'tumblerdb'\n",
    "app.config['MYSQL_DATABASE_HOST'] = 'localhost'\n",
    "app.secret_key = \"ABCDEFG\"\n",
    "mysql.init_app(app)\n",
    " \n",
    "@app.route('/', methods=['GET', 'POST'])\n",
    "def main():\n",
    "    error = None\n",
    " \n",
    "    if request.method == 'POST':\n",
    "        id = request.form['id']\n",
    "        pw = request.form['pw']\n",
    " \n",
    "        conn = mysql.connect()\n",
    "        cursor = conn.cursor()\n",
    "        sql = \"SELECT id FROM users WHERE id = %s AND pw = %s\"\n",
    "        value = (id, pw)\n",
    "        cursor.execute(\"set names utf8\")\n",
    "        cursor.execute(sql, value)\n",
    " \n",
    "        data = cursor.fetchall()\n",
    "        cursor.close()\n",
    "        conn.close()\n",
    " \n",
    "        for row in data:\n",
    "            data = row[0]\n",
    " \n",
    "        if data:\n",
    "            session['login_user'] = id\n",
    "            return redirect(url_for('home'))\n",
    "        else:\n",
    "            error = 'invalid input data detected !'\n",
    "    return render_template('main.html', error = error)\n",
    " \n",
    " \n",
    "@app.route('/register.html', methods=['GET', 'POST'])\n",
    "def register():\n",
    "    error = None\n",
    "    if request.method == 'POST':\n",
    "        id = request.form['regi_id']\n",
    "        pw = request.form['regi_pw']\n",
    " \n",
    "        conn = mysql.connect()\n",
    "        cursor = conn.cursor()\n",
    " \n",
    "        sql = \"INSERT INTO users VALUES ('%s', '%s')\" % (id, pw)\n",
    "        cursor.execute(sql)\n",
    " \n",
    "        data = cursor.fetchall()\n",
    " \n",
    "        if not data:\n",
    "            conn.commit()\n",
    "            return redirect(url_for('main'))\n",
    "        else:\n",
    "            conn.rollback()\n",
    "            return \"Register Failed\"\n",
    " \n",
    "        cursor.close()\n",
    "        conn.close()\n",
    "    return render_template('register.html', error=error)\n",
    " \n",
    "@app.route('/home.html', methods=['GET', 'POST'])\n",
    "def home():\n",
    "    error = None\n",
    "    id = session['login_user']\n",
    "    return render_template('home.html', error=error, name=id)\n",
    " \n",
    "if __name__ == '__main__':\n",
    "    app.run()\n"
   ]
  }
 ],
 "metadata": {
  "kernelspec": {
   "display_name": "Python 3 (ipykernel)",
   "language": "python",
   "name": "python3"
  },
  "language_info": {
   "codemirror_mode": {
    "name": "ipython",
    "version": 3
   },
   "file_extension": ".py",
   "mimetype": "text/x-python",
   "name": "python",
   "nbconvert_exporter": "python",
   "pygments_lexer": "ipython3",
   "version": "3.10.9"
  }
 },
 "nbformat": 4,
 "nbformat_minor": 5
}
